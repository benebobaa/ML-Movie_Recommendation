{
  "nbformat": 4,
  "nbformat_minor": 0,
  "metadata": {
    "colab": {
      "provenance": [],
      "include_colab_link": true
    },
    "kernelspec": {
      "name": "python3",
      "display_name": "Python 3"
    },
    "language_info": {
      "name": "python"
    }
  },
  "cells": [
    {
      "cell_type": "markdown",
      "metadata": {
        "id": "view-in-github",
        "colab_type": "text"
      },
      "source": [
        "<a href=\"https://colab.research.google.com/github/benebobaa/ML-Movie_Recommendation/blob/main/Movie_Recommendation_System.ipynb\" target=\"_parent\"><img src=\"https://colab.research.google.com/assets/colab-badge.svg\" alt=\"Open In Colab\"/></a>"
      ]
    },
    {
      "cell_type": "markdown",
      "source": [
        "**Movie Recomendation Engine with Collaborative Filltering Using Spark.**"
      ],
      "metadata": {
        "id": "cB0QladItM_6"
      }
    },
    {
      "cell_type": "code",
      "execution_count": null,
      "metadata": {
        "colab": {
          "base_uri": "https://localhost:8080/"
        },
        "id": "zT_ZWvBC_c8V",
        "outputId": "6f98310a-bb6b-49c7-a2d2-532bcfaec43a"
      },
      "outputs": [
        {
          "output_type": "stream",
          "name": "stdout",
          "text": [
            "Looking in indexes: https://pypi.org/simple, https://us-python.pkg.dev/colab-wheels/public/simple/\n",
            "Collecting pyspark\n",
            "  Downloading pyspark-3.3.1.tar.gz (281.4 MB)\n",
            "\u001b[2K     \u001b[90m━━━━━━━━━━━━━━━━━━━━━━━━━━━━━━━━━━━━━━━\u001b[0m \u001b[32m281.4/281.4 MB\u001b[0m \u001b[31m4.6 MB/s\u001b[0m eta \u001b[36m0:00:00\u001b[0m\n",
            "\u001b[?25h  Preparing metadata (setup.py) ... \u001b[?25l\u001b[?25hdone\n",
            "Collecting py4j==0.10.9.5\n",
            "  Downloading py4j-0.10.9.5-py2.py3-none-any.whl (199 kB)\n",
            "\u001b[2K     \u001b[90m━━━━━━━━━━━━━━━━━━━━━━━━━━━━━━━━━━━━━━\u001b[0m \u001b[32m199.7/199.7 KB\u001b[0m \u001b[31m16.6 MB/s\u001b[0m eta \u001b[36m0:00:00\u001b[0m\n",
            "\u001b[?25hBuilding wheels for collected packages: pyspark\n",
            "  Building wheel for pyspark (setup.py) ... \u001b[?25l\u001b[?25hdone\n",
            "  Created wheel for pyspark: filename=pyspark-3.3.1-py2.py3-none-any.whl size=281845512 sha256=48c3dc8669ef3c20fd6c26d1e65500a4670ca8c0cf9a82e65b53afe9301191c7\n",
            "  Stored in directory: /root/.cache/pip/wheels/43/dc/11/ec201cd671da62fa9c5cc77078235e40722170ceba231d7598\n",
            "Successfully built pyspark\n",
            "Installing collected packages: py4j, pyspark\n",
            "Successfully installed py4j-0.10.9.5 pyspark-3.3.1\n"
          ]
        }
      ],
      "source": [
        "!apt-get install openjdk-8-jdk-headless -qq > /dev/null\n",
        "!tar xf /content/drive/MyDrive/spark-3.0.0-bin-hadoop3.2.tgz\n",
        "\n",
        "!pip install -q findspark\n",
        "\n",
        "import os\n",
        "os.environ[\"JAVA_HOME\"] = \"/usr/lib/jvm/java-8-openjdk-amd64\"\n",
        "os.environ[\"SPARK_HOME\"] = \"/content/spark-3.0.0-bin-hadoop3.2\"\n",
        "\n",
        "!pip install pyspark"
      ]
    },
    {
      "cell_type": "code",
      "source": [
        "from google.colab import drive\n",
        "drive.mount('/content/drive')"
      ],
      "metadata": {
        "colab": {
          "base_uri": "https://localhost:8080/"
        },
        "id": "ZSsPfqLXNqSh",
        "outputId": "a6d42de8-cb27-4268-894c-4f6edd660c6b"
      },
      "execution_count": null,
      "outputs": [
        {
          "output_type": "stream",
          "name": "stdout",
          "text": [
            "Mounted at /content/drive\n"
          ]
        }
      ]
    },
    {
      "cell_type": "markdown",
      "source": [
        "#Import Library"
      ],
      "metadata": {
        "id": "3qU_kPejXFy2"
      }
    },
    {
      "cell_type": "code",
      "source": [
        "from pyspark.sql import SparkSession\n",
        "from pyspark.sql import SQLContext\n",
        "from pyspark.ml.evaluation import RegressionEvaluator            # For RMSE Evaluator\n",
        "from pyspark.ml.tuning import ParamGridBuilder, CrossValidator   # For tunning hpyperparameter\n",
        "from pyspark.ml.recommendation import ALS                        # Alternating Least Square\n",
        "from pyspark.sql.functions import udf, col, when, count, isnan, row_number, window, explode, rand\n",
        "import random"
      ],
      "metadata": {
        "id": "sCHnFi4h_4It"
      },
      "execution_count": null,
      "outputs": []
    },
    {
      "cell_type": "markdown",
      "source": [
        "#Import Dataset from Kaggle"
      ],
      "metadata": {
        "id": "oHU0hZJIXOjL"
      }
    },
    {
      "cell_type": "code",
      "source": [
        "!pip install -q kaggle\n",
        "\n",
        "from google.colab import files\n",
        "files.upload()"
      ],
      "metadata": {
        "colab": {
          "base_uri": "https://localhost:8080/",
          "height": 90
        },
        "id": "_NBbM4TgAIn2",
        "outputId": "337e6201-fc04-4f72-cb63-91b7c1469e43"
      },
      "execution_count": null,
      "outputs": [
        {
          "output_type": "display_data",
          "data": {
            "text/plain": [
              "<IPython.core.display.HTML object>"
            ],
            "text/html": [
              "\n",
              "     <input type=\"file\" id=\"files-95f614c6-09ed-4317-848a-72b929beddb7\" name=\"files[]\" multiple disabled\n",
              "        style=\"border:none\" />\n",
              "     <output id=\"result-95f614c6-09ed-4317-848a-72b929beddb7\">\n",
              "      Upload widget is only available when the cell has been executed in the\n",
              "      current browser session. Please rerun this cell to enable.\n",
              "      </output>\n",
              "      <script>// Copyright 2017 Google LLC\n",
              "//\n",
              "// Licensed under the Apache License, Version 2.0 (the \"License\");\n",
              "// you may not use this file except in compliance with the License.\n",
              "// You may obtain a copy of the License at\n",
              "//\n",
              "//      http://www.apache.org/licenses/LICENSE-2.0\n",
              "//\n",
              "// Unless required by applicable law or agreed to in writing, software\n",
              "// distributed under the License is distributed on an \"AS IS\" BASIS,\n",
              "// WITHOUT WARRANTIES OR CONDITIONS OF ANY KIND, either express or implied.\n",
              "// See the License for the specific language governing permissions and\n",
              "// limitations under the License.\n",
              "\n",
              "/**\n",
              " * @fileoverview Helpers for google.colab Python module.\n",
              " */\n",
              "(function(scope) {\n",
              "function span(text, styleAttributes = {}) {\n",
              "  const element = document.createElement('span');\n",
              "  element.textContent = text;\n",
              "  for (const key of Object.keys(styleAttributes)) {\n",
              "    element.style[key] = styleAttributes[key];\n",
              "  }\n",
              "  return element;\n",
              "}\n",
              "\n",
              "// Max number of bytes which will be uploaded at a time.\n",
              "const MAX_PAYLOAD_SIZE = 100 * 1024;\n",
              "\n",
              "function _uploadFiles(inputId, outputId) {\n",
              "  const steps = uploadFilesStep(inputId, outputId);\n",
              "  const outputElement = document.getElementById(outputId);\n",
              "  // Cache steps on the outputElement to make it available for the next call\n",
              "  // to uploadFilesContinue from Python.\n",
              "  outputElement.steps = steps;\n",
              "\n",
              "  return _uploadFilesContinue(outputId);\n",
              "}\n",
              "\n",
              "// This is roughly an async generator (not supported in the browser yet),\n",
              "// where there are multiple asynchronous steps and the Python side is going\n",
              "// to poll for completion of each step.\n",
              "// This uses a Promise to block the python side on completion of each step,\n",
              "// then passes the result of the previous step as the input to the next step.\n",
              "function _uploadFilesContinue(outputId) {\n",
              "  const outputElement = document.getElementById(outputId);\n",
              "  const steps = outputElement.steps;\n",
              "\n",
              "  const next = steps.next(outputElement.lastPromiseValue);\n",
              "  return Promise.resolve(next.value.promise).then((value) => {\n",
              "    // Cache the last promise value to make it available to the next\n",
              "    // step of the generator.\n",
              "    outputElement.lastPromiseValue = value;\n",
              "    return next.value.response;\n",
              "  });\n",
              "}\n",
              "\n",
              "/**\n",
              " * Generator function which is called between each async step of the upload\n",
              " * process.\n",
              " * @param {string} inputId Element ID of the input file picker element.\n",
              " * @param {string} outputId Element ID of the output display.\n",
              " * @return {!Iterable<!Object>} Iterable of next steps.\n",
              " */\n",
              "function* uploadFilesStep(inputId, outputId) {\n",
              "  const inputElement = document.getElementById(inputId);\n",
              "  inputElement.disabled = false;\n",
              "\n",
              "  const outputElement = document.getElementById(outputId);\n",
              "  outputElement.innerHTML = '';\n",
              "\n",
              "  const pickedPromise = new Promise((resolve) => {\n",
              "    inputElement.addEventListener('change', (e) => {\n",
              "      resolve(e.target.files);\n",
              "    });\n",
              "  });\n",
              "\n",
              "  const cancel = document.createElement('button');\n",
              "  inputElement.parentElement.appendChild(cancel);\n",
              "  cancel.textContent = 'Cancel upload';\n",
              "  const cancelPromise = new Promise((resolve) => {\n",
              "    cancel.onclick = () => {\n",
              "      resolve(null);\n",
              "    };\n",
              "  });\n",
              "\n",
              "  // Wait for the user to pick the files.\n",
              "  const files = yield {\n",
              "    promise: Promise.race([pickedPromise, cancelPromise]),\n",
              "    response: {\n",
              "      action: 'starting',\n",
              "    }\n",
              "  };\n",
              "\n",
              "  cancel.remove();\n",
              "\n",
              "  // Disable the input element since further picks are not allowed.\n",
              "  inputElement.disabled = true;\n",
              "\n",
              "  if (!files) {\n",
              "    return {\n",
              "      response: {\n",
              "        action: 'complete',\n",
              "      }\n",
              "    };\n",
              "  }\n",
              "\n",
              "  for (const file of files) {\n",
              "    const li = document.createElement('li');\n",
              "    li.append(span(file.name, {fontWeight: 'bold'}));\n",
              "    li.append(span(\n",
              "        `(${file.type || 'n/a'}) - ${file.size} bytes, ` +\n",
              "        `last modified: ${\n",
              "            file.lastModifiedDate ? file.lastModifiedDate.toLocaleDateString() :\n",
              "                                    'n/a'} - `));\n",
              "    const percent = span('0% done');\n",
              "    li.appendChild(percent);\n",
              "\n",
              "    outputElement.appendChild(li);\n",
              "\n",
              "    const fileDataPromise = new Promise((resolve) => {\n",
              "      const reader = new FileReader();\n",
              "      reader.onload = (e) => {\n",
              "        resolve(e.target.result);\n",
              "      };\n",
              "      reader.readAsArrayBuffer(file);\n",
              "    });\n",
              "    // Wait for the data to be ready.\n",
              "    let fileData = yield {\n",
              "      promise: fileDataPromise,\n",
              "      response: {\n",
              "        action: 'continue',\n",
              "      }\n",
              "    };\n",
              "\n",
              "    // Use a chunked sending to avoid message size limits. See b/62115660.\n",
              "    let position = 0;\n",
              "    do {\n",
              "      const length = Math.min(fileData.byteLength - position, MAX_PAYLOAD_SIZE);\n",
              "      const chunk = new Uint8Array(fileData, position, length);\n",
              "      position += length;\n",
              "\n",
              "      const base64 = btoa(String.fromCharCode.apply(null, chunk));\n",
              "      yield {\n",
              "        response: {\n",
              "          action: 'append',\n",
              "          file: file.name,\n",
              "          data: base64,\n",
              "        },\n",
              "      };\n",
              "\n",
              "      let percentDone = fileData.byteLength === 0 ?\n",
              "          100 :\n",
              "          Math.round((position / fileData.byteLength) * 100);\n",
              "      percent.textContent = `${percentDone}% done`;\n",
              "\n",
              "    } while (position < fileData.byteLength);\n",
              "  }\n",
              "\n",
              "  // All done.\n",
              "  yield {\n",
              "    response: {\n",
              "      action: 'complete',\n",
              "    }\n",
              "  };\n",
              "}\n",
              "\n",
              "scope.google = scope.google || {};\n",
              "scope.google.colab = scope.google.colab || {};\n",
              "scope.google.colab._files = {\n",
              "  _uploadFiles,\n",
              "  _uploadFilesContinue,\n",
              "};\n",
              "})(self);\n",
              "</script> "
            ]
          },
          "metadata": {}
        },
        {
          "output_type": "stream",
          "name": "stdout",
          "text": [
            "Saving kaggle.json to kaggle.json\n"
          ]
        },
        {
          "output_type": "execute_result",
          "data": {
            "text/plain": [
              "{'kaggle.json': b'{\"username\":\"benediktussatriya\",\"key\":\"5571ef5062bae925b043b79195cc175c\"}'}"
            ]
          },
          "metadata": {},
          "execution_count": 2
        }
      ]
    },
    {
      "cell_type": "code",
      "source": [
        "!mkdir -p ~/.kaggle\n",
        "!cp kaggle.json ~/.kaggle/"
      ],
      "metadata": {
        "id": "rE0073vTAOvC"
      },
      "execution_count": null,
      "outputs": []
    },
    {
      "cell_type": "code",
      "source": [
        "!chmod 600 /root/.kaggle/kaggle.json"
      ],
      "metadata": {
        "id": "7G8GV-0cAPJO"
      },
      "execution_count": null,
      "outputs": []
    },
    {
      "cell_type": "code",
      "source": [
        "!kaggle datasets download -d grouplens/movielens-20m-dataset"
      ],
      "metadata": {
        "colab": {
          "base_uri": "https://localhost:8080/"
        },
        "id": "wxXXsxp8AQoR",
        "outputId": "4657269b-3b5f-4583-9bca-e37da4426e0d"
      },
      "execution_count": null,
      "outputs": [
        {
          "output_type": "stream",
          "name": "stdout",
          "text": [
            "Downloading movielens-20m-dataset.zip to /content\n",
            " 99% 193M/195M [00:08<00:00, 30.7MB/s]\n",
            "100% 195M/195M [00:08<00:00, 25.4MB/s]\n"
          ]
        }
      ]
    },
    {
      "cell_type": "code",
      "source": [
        "!unzip /content/movielens-20m-dataset.zip"
      ],
      "metadata": {
        "colab": {
          "base_uri": "https://localhost:8080/"
        },
        "id": "8tGAYEGYASLT",
        "outputId": "6072e461-f5ed-4ce7-b2e5-e275b0d65729"
      },
      "execution_count": null,
      "outputs": [
        {
          "output_type": "stream",
          "name": "stdout",
          "text": [
            "Archive:  /content/movielens-20m-dataset.zip\n",
            "  inflating: genome_scores.csv       \n",
            "  inflating: genome_tags.csv         \n",
            "  inflating: link.csv                \n",
            "  inflating: movie.csv               \n",
            "  inflating: rating.csv              \n",
            "  inflating: tag.csv                 \n"
          ]
        }
      ]
    },
    {
      "cell_type": "code",
      "source": [
        "spark = SparkSession.builder.appName(\"movie_recomendation\").getOrCreate()\n",
        "print(spark.version)"
      ],
      "metadata": {
        "colab": {
          "base_uri": "https://localhost:8080/"
        },
        "id": "GgdyFInFAUAV",
        "outputId": "5cc797e3-7a12-494d-b197-b743ae6a0eda"
      },
      "execution_count": null,
      "outputs": [
        {
          "output_type": "stream",
          "name": "stdout",
          "text": [
            "3.3.1\n"
          ]
        }
      ]
    },
    {
      "cell_type": "markdown",
      "source": [
        "###Read Dataset and Joining the datasets"
      ],
      "metadata": {
        "id": "JWqhfOKwXWE3"
      }
    },
    {
      "cell_type": "code",
      "source": [
        "df_rating = spark.read.csv(\"/content/rating.csv\",inferSchema=True, header=True)\n",
        "df_movie = spark.read.csv(\"/content/movie.csv\",inferSchema=True, header=True)\n",
        "\n",
        "df_movie_ratings = df_rating.join(df_movie, ['movieId'], 'left')\n",
        "df_movie_ratings.show(10)"
      ],
      "metadata": {
        "colab": {
          "base_uri": "https://localhost:8080/"
        },
        "id": "p_MZ2OPdAYBU",
        "outputId": "61bbb986-527b-4cdb-c118-aa42947ad0d0"
      },
      "execution_count": null,
      "outputs": [
        {
          "output_type": "stream",
          "name": "stdout",
          "text": [
            "+-------+------+------+-------------------+--------------------+--------------------+\n",
            "|movieId|userId|rating|          timestamp|               title|              genres|\n",
            "+-------+------+------+-------------------+--------------------+--------------------+\n",
            "|      2|     1|   3.5|2005-04-02 23:53:47|      Jumanji (1995)|Adventure|Childre...|\n",
            "|     29|     1|   3.5|2005-04-02 23:31:16|City of Lost Chil...|Adventure|Drama|F...|\n",
            "|     32|     1|   3.5|2005-04-02 23:33:39|Twelve Monkeys (a...|Mystery|Sci-Fi|Th...|\n",
            "|     47|     1|   3.5|2005-04-02 23:32:07|Seven (a.k.a. Se7...|    Mystery|Thriller|\n",
            "|     50|     1|   3.5|2005-04-02 23:29:40|Usual Suspects, T...|Crime|Mystery|Thr...|\n",
            "|    112|     1|   3.5|2004-09-10 03:09:00|Rumble in the Bro...|Action|Adventure|...|\n",
            "|    151|     1|   4.0|2004-09-10 03:08:54|      Rob Roy (1995)|Action|Drama|Roma...|\n",
            "|    223|     1|   4.0|2005-04-02 23:46:13|       Clerks (1994)|              Comedy|\n",
            "|    253|     1|   4.0|2005-04-02 23:35:40|Interview with th...|        Drama|Horror|\n",
            "|    260|     1|   4.0|2005-04-02 23:33:46|Star Wars: Episod...|Action|Adventure|...|\n",
            "+-------+------+------+-------------------+--------------------+--------------------+\n",
            "only showing top 10 rows\n",
            "\n"
          ]
        }
      ]
    },
    {
      "cell_type": "markdown",
      "source": [
        "### Choose query from dataset where userId around 1-10, because the origin datasets heavier"
      ],
      "metadata": {
        "id": "aEv7fxogXgn2"
      }
    },
    {
      "cell_type": "code",
      "source": [
        "df_movie_ratings.createOrReplaceTempView(\"df_view\")\n",
        "df_movie_new = spark.sql(\n",
        "    \"\"\"\n",
        "    SELECT * \n",
        "    FROM df_view\n",
        "    WHERE userId <= 10\n",
        "    \"\"\"\n",
        ")"
      ],
      "metadata": {
        "id": "6n0vEDBoA4pw"
      },
      "execution_count": null,
      "outputs": []
    },
    {
      "cell_type": "code",
      "source": [
        "df_movie_new.show(10)"
      ],
      "metadata": {
        "colab": {
          "base_uri": "https://localhost:8080/"
        },
        "id": "hmwieg_WBKUx",
        "outputId": "d22d8748-6c92-4ba0-9841-33d61a0c827d"
      },
      "execution_count": null,
      "outputs": [
        {
          "output_type": "stream",
          "name": "stdout",
          "text": [
            "+-------+------+------+-------------------+--------------------+--------------------+\n",
            "|movieId|userId|rating|          timestamp|               title|              genres|\n",
            "+-------+------+------+-------------------+--------------------+--------------------+\n",
            "|      2|     1|   3.5|2005-04-02 23:53:47|      Jumanji (1995)|Adventure|Childre...|\n",
            "|     29|     1|   3.5|2005-04-02 23:31:16|City of Lost Chil...|Adventure|Drama|F...|\n",
            "|     32|     1|   3.5|2005-04-02 23:33:39|Twelve Monkeys (a...|Mystery|Sci-Fi|Th...|\n",
            "|     47|     1|   3.5|2005-04-02 23:32:07|Seven (a.k.a. Se7...|    Mystery|Thriller|\n",
            "|     50|     1|   3.5|2005-04-02 23:29:40|Usual Suspects, T...|Crime|Mystery|Thr...|\n",
            "|    112|     1|   3.5|2004-09-10 03:09:00|Rumble in the Bro...|Action|Adventure|...|\n",
            "|    151|     1|   4.0|2004-09-10 03:08:54|      Rob Roy (1995)|Action|Drama|Roma...|\n",
            "|    223|     1|   4.0|2005-04-02 23:46:13|       Clerks (1994)|              Comedy|\n",
            "|    253|     1|   4.0|2005-04-02 23:35:40|Interview with th...|        Drama|Horror|\n",
            "|    260|     1|   4.0|2005-04-02 23:33:46|Star Wars: Episod...|Action|Adventure|...|\n",
            "+-------+------+------+-------------------+--------------------+--------------------+\n",
            "only showing top 10 rows\n",
            "\n"
          ]
        }
      ]
    },
    {
      "cell_type": "code",
      "source": [
        "df_movie_new.describe().show()"
      ],
      "metadata": {
        "colab": {
          "base_uri": "https://localhost:8080/"
        },
        "id": "B7WZxrQ5BQlE",
        "outputId": "272db5d8-53dd-49b9-d450-a76d21a673f6"
      },
      "execution_count": null,
      "outputs": [
        {
          "output_type": "stream",
          "name": "stdout",
          "text": [
            "+-------+------------------+------------------+------------------+--------------------+----------------+\n",
            "|summary|           movieId|            userId|            rating|               title|          genres|\n",
            "+-------+------------------+------------------+------------------+--------------------+----------------+\n",
            "|  count|               960|               960|               960|                 960|             960|\n",
            "|   mean|2048.0510416666666| 4.823958333333334|3.7197916666666666|                null|            null|\n",
            "| stddev| 1927.862911118332|2.7709292603631606|0.9142733077505908|                null|            null|\n",
            "|    min|                 1|                 1|               1.0|1984 (Nineteen Ei...|Action|Adventure|\n",
            "|    max|             31696|                10|               5.0|¡Three Amigos! (1...|         Western|\n",
            "+-------+------------------+------------------+------------------+--------------------+----------------+\n",
            "\n"
          ]
        }
      ]
    },
    {
      "cell_type": "code",
      "source": [
        "print(\"Shape of the dataset: \", (df_movie_new.count(), len(df_movie_new.columns)))"
      ],
      "metadata": {
        "colab": {
          "base_uri": "https://localhost:8080/"
        },
        "id": "vsNo6AfWBTpr",
        "outputId": "057e3c69-460b-49c2-9173-793030250161"
      },
      "execution_count": null,
      "outputs": [
        {
          "output_type": "stream",
          "name": "stdout",
          "text": [
            "Shape of the dataset:  (960, 6)\n"
          ]
        }
      ]
    },
    {
      "cell_type": "code",
      "source": [
        "df_movie_new.printSchema()"
      ],
      "metadata": {
        "colab": {
          "base_uri": "https://localhost:8080/"
        },
        "id": "CbKYHl8KBZGQ",
        "outputId": "5f64c0de-1e98-4fb5-94ea-2c6c22799a9e"
      },
      "execution_count": null,
      "outputs": [
        {
          "output_type": "stream",
          "name": "stdout",
          "text": [
            "root\n",
            " |-- movieId: integer (nullable = true)\n",
            " |-- userId: integer (nullable = true)\n",
            " |-- rating: double (nullable = true)\n",
            " |-- timestamp: timestamp (nullable = true)\n",
            " |-- title: string (nullable = true)\n",
            " |-- genres: string (nullable = true)\n",
            "\n"
          ]
        }
      ]
    },
    {
      "cell_type": "code",
      "source": [
        "#Remove timestamo column from the newest data frame\n",
        "df_movie_new = df_movie_new.drop(\"timestamp\") \n",
        "df_movie_new.show(10)"
      ],
      "metadata": {
        "colab": {
          "base_uri": "https://localhost:8080/"
        },
        "id": "umtgh9m7B7-4",
        "outputId": "479855e0-1dad-4e3c-f536-1c2c9d81c990"
      },
      "execution_count": null,
      "outputs": [
        {
          "output_type": "stream",
          "name": "stdout",
          "text": [
            "+-------+------+------+--------------------+--------------------+\n",
            "|movieId|userId|rating|               title|              genres|\n",
            "+-------+------+------+--------------------+--------------------+\n",
            "|      2|     1|   3.5|      Jumanji (1995)|Adventure|Childre...|\n",
            "|     29|     1|   3.5|City of Lost Chil...|Adventure|Drama|F...|\n",
            "|     32|     1|   3.5|Twelve Monkeys (a...|Mystery|Sci-Fi|Th...|\n",
            "|     47|     1|   3.5|Seven (a.k.a. Se7...|    Mystery|Thriller|\n",
            "|     50|     1|   3.5|Usual Suspects, T...|Crime|Mystery|Thr...|\n",
            "|    112|     1|   3.5|Rumble in the Bro...|Action|Adventure|...|\n",
            "|    151|     1|   4.0|      Rob Roy (1995)|Action|Drama|Roma...|\n",
            "|    223|     1|   4.0|       Clerks (1994)|              Comedy|\n",
            "|    253|     1|   4.0|Interview with th...|        Drama|Horror|\n",
            "|    260|     1|   4.0|Star Wars: Episod...|Action|Adventure|...|\n",
            "+-------+------+------+--------------------+--------------------+\n",
            "only showing top 10 rows\n",
            "\n"
          ]
        }
      ]
    },
    {
      "cell_type": "code",
      "source": [
        "#checking null value\n",
        "df_new_null = df_movie_new.select([count(when(col(c).contains(\"None\")|col(c).contains(\"NULL\")|(col(c) ==\"\")|col(c).isNull()|isnan(c),c)).alias(c)for c in df_movie_new.columns])\n",
        "df_new_null.show(10)"
      ],
      "metadata": {
        "colab": {
          "base_uri": "https://localhost:8080/"
        },
        "id": "WOvLSq-uBtCi",
        "outputId": "b20d5a07-da15-4f7e-cfa2-9e1cd2a96f47"
      },
      "execution_count": null,
      "outputs": [
        {
          "output_type": "stream",
          "name": "stdout",
          "text": [
            "+-------+------+------+-----+------+\n",
            "|movieId|userId|rating|title|genres|\n",
            "+-------+------+------+-----+------+\n",
            "|      0|     0|     0|    0|     0|\n",
            "+-------+------+------+-----+------+\n",
            "\n"
          ]
        }
      ]
    },
    {
      "cell_type": "markdown",
      "source": [
        "#Spliting Data"
      ],
      "metadata": {
        "id": "aHzxUjXEYQIR"
      }
    },
    {
      "cell_type": "code",
      "source": [
        "# Create test and train set\n",
        "        #Trainiing = 80%\n",
        "        #Test = 20%\n",
        "training_df, test_df = df_movie_new.randomSplit([0.8, 0.2], seed = 2020)"
      ],
      "metadata": {
        "id": "qswB4OK-CBof"
      },
      "execution_count": null,
      "outputs": []
    },
    {
      "cell_type": "code",
      "source": [
        "#Check training_df is not empty\n",
        "training_df.show(5)"
      ],
      "metadata": {
        "colab": {
          "base_uri": "https://localhost:8080/"
        },
        "id": "9Wkx5ORuDMwo",
        "outputId": "f8f39cd3-6522-47fe-adfb-c49392b3f345"
      },
      "execution_count": null,
      "outputs": [
        {
          "output_type": "stream",
          "name": "stdout",
          "text": [
            "+-------+------+------+----------------+--------------------+\n",
            "|movieId|userId|rating|           title|              genres|\n",
            "+-------+------+------+----------------+--------------------+\n",
            "|      1|     3|   4.0|Toy Story (1995)|Adventure|Animati...|\n",
            "|      1|     6|   5.0|Toy Story (1995)|Adventure|Animati...|\n",
            "|      1|     8|   4.0|Toy Story (1995)|Adventure|Animati...|\n",
            "|      1|    10|   4.0|Toy Story (1995)|Adventure|Animati...|\n",
            "|      2|     1|   3.5|  Jumanji (1995)|Adventure|Childre...|\n",
            "+-------+------+------+----------------+--------------------+\n",
            "only showing top 5 rows\n",
            "\n"
          ]
        }
      ]
    },
    {
      "cell_type": "code",
      "source": [
        "#Check test_df is not empty\n",
        "test_df.show(5)"
      ],
      "metadata": {
        "colab": {
          "base_uri": "https://localhost:8080/"
        },
        "id": "JYsHOYTnDOjg",
        "outputId": "2f85c83e-cd34-4fb8-e537-c48cf2c5a27e"
      },
      "execution_count": null,
      "outputs": [
        {
          "output_type": "stream",
          "name": "stdout",
          "text": [
            "+-------+------+------+--------------------+--------------------+\n",
            "|movieId|userId|rating|               title|              genres|\n",
            "+-------+------+------+--------------------+--------------------+\n",
            "|      3|     7|   3.0|Grumpier Old Men ...|      Comedy|Romance|\n",
            "|      7|     6|   5.0|      Sabrina (1995)|      Comedy|Romance|\n",
            "|     11|     5|   5.0|American Presiden...|Comedy|Drama|Romance|\n",
            "|     15|     7|   2.0|Cutthroat Island ...|Action|Adventure|...|\n",
            "|     16|     7|   3.0|       Casino (1995)|         Crime|Drama|\n",
            "+-------+------+------+--------------------+--------------------+\n",
            "only showing top 5 rows\n",
            "\n"
          ]
        }
      ]
    },
    {
      "cell_type": "markdown",
      "source": [
        "# **Create ALS Parameter, Hyperparameters and Do Modeling**"
      ],
      "metadata": {
        "id": "RGvt8lDQYk7T"
      }
    },
    {
      "cell_type": "markdown",
      "source": [
        "So here tree important columns we have (rating, user and item). In the case of collaborative filtering, matrix factorization algorithms work by decomposing the user-item interaction matrix into the product of two lower dimensionality rectangular matrices. One matrix can be seen as the user matrix where rows represent users and columns are latent factors. The other matrix is the item matrix where rows are latent factors and columns represent items.\n",
        "\n",
        "\n",
        "> ![image.png](data:image/png;base64,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)\n",
        "\n",
        "\n",
        "> In the sparse user-item interaction matrix, the predicted rating user u will give item i is computed as:\n",
        "\n",
        "\n",
        "> ![image.png](data:image/png;base64,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)\n",
        "\n",
        "> Rating of item i given by user u can be expressed as a dot product of the user latent vector and the item latent vector.\n",
        "\n",
        "> Notice in above formula, the number of latent factors can be tuned via cross-validation. Latent factors are the features in the lower dimension latent space projected from user-item interaction matrix. The idea behind matrix factorization is to use latent factors to represent user preferences or movie topics in a much lower dimension space."
      ],
      "metadata": {
        "id": "BFzk1Lp-u-CG"
      }
    },
    {
      "cell_type": "code",
      "source": [
        "# Create ALS hyperparameters\n",
        "#As the Text abose, first we need to declare in general. \n",
        "                     #userId as User(userCol), movieId as Item(itemCol) and rating as (ratingCol). \n",
        "\n",
        "# nonnegative specifies whether or not to use nonnegative constraints for least squares(defaults to false)\n",
        "                     #True: Ensures positive numbers\n",
        "\n",
        "#implicitPrefs set to False(automatically it is True).\n",
        "\n",
        "#coldStartStrategy = \"drop\": Addresses issues with test/train split; \n",
        "                     # only use users that have ratings in both training and testing set, \n",
        "                     # and not to use users that only appear in the testing set to calculate RMSE.\n",
        "als = ALS(\n",
        "         userCol=\"userId\", \n",
        "         itemCol=\"movieId\",\n",
        "         ratingCol=\"rating\", \n",
        "         nonnegative = True, \n",
        "         implicitPrefs = False,\n",
        "         coldStartStrategy=\"drop\"\n",
        ")"
      ],
      "metadata": {
        "id": "Vueiu94uCIy9"
      },
      "execution_count": null,
      "outputs": []
    },
    {
      "cell_type": "code",
      "source": [
        "# Add our tunning hyperparameters and their respective values to param_grid\n",
        "param_grid = ParamGridBuilder() \\\n",
        "            .addGrid(als.rank, [10, 50, 100, 150]) \\\n",
        "            .addGrid(als.regParam, [.01, .05, .1, .15]) \\\n",
        "            .build()"
      ],
      "metadata": {
        "id": "zKIzSTBNCQUN"
      },
      "execution_count": null,
      "outputs": []
    },
    {
      "cell_type": "markdown",
      "source": [
        "> Rank is the the width of the metrices U and P or we can say the number of features in feature vectors. Rank has big corelation to our Root-mean-square deviation(RMSE).\n"
      ],
      "metadata": {
        "id": "_ExplsJmiErW"
      }
    },
    {
      "cell_type": "code",
      "source": [
        "# Define evaluator as RMSE and print length of evaluator\n",
        "evaluator = RegressionEvaluator(\n",
        "           metricName=\"rmse\", \n",
        "           labelCol=\"rating\", \n",
        "           predictionCol=\"prediction\") "
      ],
      "metadata": {
        "id": "B4qLn6zICPKP"
      },
      "execution_count": null,
      "outputs": []
    },
    {
      "cell_type": "code",
      "source": [
        "# Build cross validation using CrossValidator\n",
        "cv = CrossValidator(estimator=als, estimatorParamMaps=param_grid, evaluator=evaluator, numFolds=5)"
      ],
      "metadata": {
        "id": "UdiD0cPVCLdp"
      },
      "execution_count": null,
      "outputs": []
    },
    {
      "cell_type": "markdown",
      "source": [
        "The number of folds (also known as numFolds) is a hyperparameter in the k-fold cross-validation technique. It determines the number of partitions or \"folds\" that the data is divided into for training and testing.\n",
        "\n",
        "For example, in a 5-fold cross-validation, the data is divided into 5 equal parts, and the model is trained on 4 parts and tested on the remaining 1 part. This process is repeated 5 times, each time using a different part for testing. The performance of the model is then averaged over"
      ],
      "metadata": {
        "id": "slUGrdW4hO1m"
      }
    },
    {
      "cell_type": "markdown",
      "source": [
        "Training data"
      ],
      "metadata": {
        "id": "NvT9jzN9Y6Dr"
      }
    },
    {
      "cell_type": "code",
      "source": [
        "#Fit cross validator to the 'train' dataset\n",
        "model = cv.fit(training_df)\n",
        "\n",
        "#Extract best model from the cv model above\n",
        "best_model = model.bestModel\n",
        "\n",
        "# View the predictions\n",
        "test_predictions = best_model.transform(test_df)"
      ],
      "metadata": {
        "id": "tJZKtXsuCNjN"
      },
      "execution_count": null,
      "outputs": []
    },
    {
      "cell_type": "markdown",
      "source": [
        "**Evaluation with RMSE**\n",
        "> Root of the Mean of the Square of Error that predicted by our Regression model: \n",
        "\n",
        "> ![image.png](data:image/png;base64,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)\n",
        "\n",
        "> Yi = actual value\n",
        "\n",
        "> Yp = predicted Value\n",
        "\n",
        "> n = number of observations/rows"
      ],
      "metadata": {
        "id": "nR4KAfaGv08I"
      }
    },
    {
      "cell_type": "code",
      "source": [
        "RMSE = evaluator.evaluate(test_predictions)\n",
        "print(RMSE)"
      ],
      "metadata": {
        "colab": {
          "base_uri": "https://localhost:8080/"
        },
        "id": "ejqTAZ39CUDb",
        "outputId": "946a1892-a7e8-4c32-ceb8-f2a3116e6c71"
      },
      "execution_count": null,
      "outputs": [
        {
          "output_type": "stream",
          "name": "stdout",
          "text": [
            "1.1440822446299546\n"
          ]
        }
      ]
    },
    {
      "cell_type": "markdown",
      "source": [
        "An RMSE of 1.2 means that on average the model predicts 1.2 above or below values of the original ratings matrix."
      ],
      "metadata": {
        "id": "shvcXCjpvfYy"
      }
    },
    {
      "cell_type": "markdown",
      "source": [
        "#Test the recommendation system"
      ],
      "metadata": {
        "id": "oMPbtZFEZBUG"
      }
    },
    {
      "cell_type": "code",
      "source": [
        "# Generate n Recommendations for all users\n",
        "nrecommendations = best_model.recommendForAllUsers(5)\n",
        "nrecommendations.show()"
      ],
      "metadata": {
        "colab": {
          "base_uri": "https://localhost:8080/"
        },
        "id": "U1-YSr2wJ-qH",
        "outputId": "d59777e8-8c7c-4dda-8d14-7178af46ca13"
      },
      "execution_count": null,
      "outputs": [
        {
          "output_type": "stream",
          "name": "stdout",
          "text": [
            "+------+--------------------+\n",
            "|userId|     recommendations|\n",
            "+------+--------------------+\n",
            "|    10|[{1221, 4.819483}...|\n",
            "|     1|[{8507, 4.8259172...|\n",
            "|     2|[{527, 5.0131445}...|\n",
            "|     3|[{8507, 5.009408}...|\n",
            "|     4|[{454, 4.6026206}...|\n",
            "|     5|[{1196, 4.9843917...|\n",
            "|     6|[{52, 4.8660207},...|\n",
            "|     7|[{1077, 4.8193145...|\n",
            "|     8|[{858, 4.963628},...|\n",
            "|     9|[{4148, 4.8314543...|\n",
            "+------+--------------------+\n",
            "\n"
          ]
        }
      ]
    },
    {
      "cell_type": "code",
      "source": [
        "nrecommendations = nrecommendations\\\n",
        "    .withColumn(\"rec_exp\", explode(\"recommendations\"))\\\n",
        "    .select('userId', col(\"rec_exp.movieId\"), col(\"rec_exp.rating\"))\n",
        "nrecommendations.limit(10).show()"
      ],
      "metadata": {
        "colab": {
          "base_uri": "https://localhost:8080/"
        },
        "id": "AGbsy5gGKCD4",
        "outputId": "f3adf4c3-63ca-4ede-82c5-ce08b824bb9c"
      },
      "execution_count": null,
      "outputs": [
        {
          "output_type": "stream",
          "name": "stdout",
          "text": [
            "+------+-------+---------+\n",
            "|userId|movieId|   rating|\n",
            "+------+-------+---------+\n",
            "|    10|   1221| 4.819483|\n",
            "|    10|   1247| 4.819483|\n",
            "|    10|    858|  4.80187|\n",
            "|    10|    527| 4.716411|\n",
            "|    10|   1387|4.6602592|\n",
            "|     1|   8507|4.8259172|\n",
            "|     1|   4993|4.8259172|\n",
            "|     1|   5952|4.8259172|\n",
            "|     1|   7153|4.8259172|\n",
            "|     1|    858| 4.402533|\n",
            "+------+-------+---------+\n",
            "\n"
          ]
        }
      ]
    },
    {
      "cell_type": "code",
      "source": [
        "nrecommendations.join(df_movie, on='movieId').filter('userId = 1').show()"
      ],
      "metadata": {
        "colab": {
          "base_uri": "https://localhost:8080/"
        },
        "id": "t_aQrK3BKn6s",
        "outputId": "83860407-2fc3-4575-affd-51e1fe8de671"
      },
      "execution_count": null,
      "outputs": [
        {
          "output_type": "stream",
          "name": "stdout",
          "text": [
            "+-------+------+---------+--------------------+--------------------+\n",
            "|movieId|userId|   rating|               title|              genres|\n",
            "+-------+------+---------+--------------------+--------------------+\n",
            "|   8507|     1|4.8259172|       Freaks (1932)|  Crime|Drama|Horror|\n",
            "|   4993|     1|4.8259172|Lord of the Rings...|   Adventure|Fantasy|\n",
            "|   5952|     1|4.8259172|Lord of the Rings...|   Adventure|Fantasy|\n",
            "|   7153|     1|4.8259172|Lord of the Rings...|Action|Adventure|...|\n",
            "|    858|     1| 4.402533|Godfather, The (1...|         Crime|Drama|\n",
            "+-------+------+---------+--------------------+--------------------+\n",
            "\n"
          ]
        }
      ]
    },
    {
      "cell_type": "code",
      "source": [
        "df_movie_new.join(df_movie, on='movieId').filter('userId = 10').sort('rating', ascending=False).limit(5).show()"
      ],
      "metadata": {
        "colab": {
          "base_uri": "https://localhost:8080/"
        },
        "id": "QDNpfsvPWjWW",
        "outputId": "95184837-06d3-4b70-bd7f-6562c605e9e6"
      },
      "execution_count": null,
      "outputs": [
        {
          "output_type": "stream",
          "name": "stdout",
          "text": [
            "+-------+------+------+--------------------+--------------------+--------------------+--------------------+\n",
            "|movieId|userId|rating|               title|              genres|               title|              genres|\n",
            "+-------+------+------+--------------------+--------------------+--------------------+--------------------+\n",
            "|    527|    10|   5.0|Schindler's List ...|           Drama|War|Schindler's List ...|           Drama|War|\n",
            "|    858|    10|   5.0|Godfather, The (1...|         Crime|Drama|Godfather, The (1...|         Crime|Drama|\n",
            "|   1221|    10|   5.0|Godfather: Part I...|         Crime|Drama|Godfather: Part I...|         Crime|Drama|\n",
            "|   1247|    10|   5.0|Graduate, The (1967)|Comedy|Drama|Romance|Graduate, The (1967)|Comedy|Drama|Romance|\n",
            "|   1387|    10|   5.0|         Jaws (1975)|       Action|Horror|         Jaws (1975)|       Action|Horror|\n",
            "+-------+------+------+--------------------+--------------------+--------------------+--------------------+\n",
            "\n"
          ]
        }
      ]
    },
    {
      "cell_type": "markdown",
      "source": [
        "Recommendation system by random user id range 1 to 10"
      ],
      "metadata": {
        "id": "3ifm_LZqlR1I"
      }
    },
    {
      "cell_type": "code",
      "source": [
        "user = random.randint(1, 10)\n",
        "nrecommendations.join(df_movie, on='movieId').filter('userId = {}'.format(user)).show()"
      ],
      "metadata": {
        "colab": {
          "base_uri": "https://localhost:8080/"
        },
        "id": "obipRgqWlRLd",
        "outputId": "8187b7ef-c56a-4b0a-d49c-9ff7d88ceccd"
      },
      "execution_count": null,
      "outputs": [
        {
          "output_type": "stream",
          "name": "stdout",
          "text": [
            "+-------+------+---------+--------------------+--------------------+\n",
            "|movieId|userId|   rating|               title|              genres|\n",
            "+-------+------+---------+--------------------+--------------------+\n",
            "|   4148|     9|4.8314543|     Hannibal (2001)|     Horror|Thriller|\n",
            "|    858|     9| 4.740382|Godfather, The (1...|         Crime|Drama|\n",
            "|   1997|     9|  4.60245|Exorcist, The (1973)|      Horror|Mystery|\n",
            "|   2959|     9| 4.578904|   Fight Club (1999)|Action|Crime|Dram...|\n",
            "|   3798|     9|4.4432282|What Lies Beneath...|Drama|Horror|Mystery|\n",
            "+-------+------+---------+--------------------+--------------------+\n",
            "\n"
          ]
        }
      ]
    },
    {
      "cell_type": "markdown",
      "source": [
        "Recommendation system by best rating prediction random rows"
      ],
      "metadata": {
        "id": "SVuIq5ZvmlRe"
      }
    },
    {
      "cell_type": "code",
      "source": [
        "nrecommendations.join(df_movie, on='movieId').orderBy(rand()).limit(5).show()"
      ],
      "metadata": {
        "colab": {
          "base_uri": "https://localhost:8080/"
        },
        "id": "-DtMOyDfmexq",
        "outputId": "52d111ff-8d6f-4c56-99e4-6f3dc950e972"
      },
      "execution_count": null,
      "outputs": [
        {
          "output_type": "stream",
          "name": "stdout",
          "text": [
            "+-------+------+---------+--------------------+--------------------+\n",
            "|movieId|userId|   rating|               title|              genres|\n",
            "+-------+------+---------+--------------------+--------------------+\n",
            "|    434|     8| 4.835787|  Cliffhanger (1993)|Action|Adventure|...|\n",
            "|   1077|     7|4.8193145|      Sleeper (1973)|       Comedy|Sci-Fi|\n",
            "|   1080|     5| 4.874433|Monty Python's Li...|              Comedy|\n",
            "|   4993|     3| 5.009408|Lord of the Rings...|   Adventure|Fantasy|\n",
            "|   1247|     6| 4.864808|Graduate, The (1967)|Comedy|Drama|Romance|\n",
            "+-------+------+---------+--------------------+--------------------+\n",
            "\n"
          ]
        }
      ]
    },
    {
      "cell_type": "markdown",
      "source": [
        "#Save model and test load model"
      ],
      "metadata": {
        "id": "Z3oOaOf0U7Ln"
      }
    },
    {
      "cell_type": "markdown",
      "source": [
        "save model"
      ],
      "metadata": {
        "id": "ttvQWX3EV7oQ"
      }
    },
    {
      "cell_type": "code",
      "source": [
        "path = \"bene/movie_recom\"\n",
        "best_model.write().overwrite().save(path)"
      ],
      "metadata": {
        "id": "qMbvzk4dU9T9"
      },
      "execution_count": null,
      "outputs": []
    },
    {
      "cell_type": "markdown",
      "source": [
        "load model"
      ],
      "metadata": {
        "id": "UhWIcZQIV-5v"
      }
    },
    {
      "cell_type": "code",
      "source": [
        "from pyspark.ml.recommendation import ALSModel\n",
        "movie_recom_model = ALSModel.load(path)"
      ],
      "metadata": {
        "id": "IFZempS9V6nr"
      },
      "execution_count": null,
      "outputs": []
    },
    {
      "cell_type": "markdown",
      "source": [
        "test model has loaded"
      ],
      "metadata": {
        "id": "auSpnIXTWOwC"
      }
    },
    {
      "cell_type": "code",
      "source": [
        "movie_recom_model.recommendForAllUsers(1).orderBy(rand()).show()"
      ],
      "metadata": {
        "colab": {
          "base_uri": "https://localhost:8080/"
        },
        "id": "_Wg9vp8dWOTN",
        "outputId": "c9f8915d-46b9-4794-e00e-127320b06b29"
      },
      "execution_count": null,
      "outputs": [
        {
          "output_type": "stream",
          "name": "stdout",
          "text": [
            "+------+-------------------+\n",
            "|userId|    recommendations|\n",
            "+------+-------------------+\n",
            "|     7|[{3578, 4.8193145}]|\n",
            "|     1|[{5952, 4.8259172}]|\n",
            "|     6|  [{52, 4.8660207}]|\n",
            "|     5|[{1196, 4.9843917}]|\n",
            "|     4| [{454, 4.6026206}]|\n",
            "|     3| [{5952, 5.009408}]|\n",
            "|     2| [{527, 5.0131445}]|\n",
            "|    10| [{1221, 4.819483}]|\n",
            "|     8|  [{858, 4.963628}]|\n",
            "|     9|[{4148, 4.8314543}]|\n",
            "+------+-------------------+\n",
            "\n"
          ]
        }
      ]
    },
    {
      "cell_type": "markdown",
      "source": [
        "download model"
      ],
      "metadata": {
        "id": "9-1gN58dkioQ"
      }
    },
    {
      "cell_type": "code",
      "source": [
        "from google.colab import files\n",
        "!zip -r /content/bene/movie_model.zip /content/bene/movie_recom\n",
        "files.download(\"/content/bene/movie_model.zip\")"
      ],
      "metadata": {
        "colab": {
          "base_uri": "https://localhost:8080/",
          "height": 17
        },
        "id": "j4Flrno7kl4c",
        "outputId": "582d83db-6e4d-4184-b63b-8196c6721301"
      },
      "execution_count": 54,
      "outputs": [
        {
          "output_type": "display_data",
          "data": {
            "text/plain": [
              "<IPython.core.display.Javascript object>"
            ],
            "application/javascript": [
              "\n",
              "    async function download(id, filename, size) {\n",
              "      if (!google.colab.kernel.accessAllowed) {\n",
              "        return;\n",
              "      }\n",
              "      const div = document.createElement('div');\n",
              "      const label = document.createElement('label');\n",
              "      label.textContent = `Downloading \"${filename}\": `;\n",
              "      div.appendChild(label);\n",
              "      const progress = document.createElement('progress');\n",
              "      progress.max = size;\n",
              "      div.appendChild(progress);\n",
              "      document.body.appendChild(div);\n",
              "\n",
              "      const buffers = [];\n",
              "      let downloaded = 0;\n",
              "\n",
              "      const channel = await google.colab.kernel.comms.open(id);\n",
              "      // Send a message to notify the kernel that we're ready.\n",
              "      channel.send({})\n",
              "\n",
              "      for await (const message of channel.messages) {\n",
              "        // Send a message to notify the kernel that we're ready.\n",
              "        channel.send({})\n",
              "        if (message.buffers) {\n",
              "          for (const buffer of message.buffers) {\n",
              "            buffers.push(buffer);\n",
              "            downloaded += buffer.byteLength;\n",
              "            progress.value = downloaded;\n",
              "          }\n",
              "        }\n",
              "      }\n",
              "      const blob = new Blob(buffers, {type: 'application/binary'});\n",
              "      const a = document.createElement('a');\n",
              "      a.href = window.URL.createObjectURL(blob);\n",
              "      a.download = filename;\n",
              "      div.appendChild(a);\n",
              "      a.click();\n",
              "      div.remove();\n",
              "    }\n",
              "  "
            ]
          },
          "metadata": {}
        },
        {
          "output_type": "display_data",
          "data": {
            "text/plain": [
              "<IPython.core.display.Javascript object>"
            ],
            "application/javascript": [
              "download(\"download_93e4e0ec-5bd6-470e-8793-a5d14bd34b8d\", \"movie_model.zip\", 46634)"
            ]
          },
          "metadata": {}
        }
      ]
    },
    {
      "cell_type": "markdown",
      "source": [
        "#Conclusion\n",
        "The value rating between result predict and actual data from dataset is very close. That mean the prediction is good."
      ],
      "metadata": {
        "id": "7EATVGPYZGj7"
      }
    }
  ]
}