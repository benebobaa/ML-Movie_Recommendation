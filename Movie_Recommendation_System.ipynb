{
  "nbformat": 4,
  "nbformat_minor": 0,
  "metadata": {
    "colab": {
      "provenance": [],
      "include_colab_link": true
    },
    "kernelspec": {
      "name": "python3",
      "display_name": "Python 3"
    },
    "language_info": {
      "name": "python"
    }
  },
  "cells": [
    {
      "cell_type": "markdown",
      "metadata": {
        "id": "view-in-github",
        "colab_type": "text"
      },
      "source": [
        "<a href=\"https://colab.research.google.com/github/benebobaa/ML-Movie_Recommendation/blob/main/Movie_Recommendation_System.ipynb\" target=\"_parent\"><img src=\"https://colab.research.google.com/assets/colab-badge.svg\" alt=\"Open In Colab\"/></a>"
      ]
    },
    {
      "cell_type": "markdown",
      "source": [
        "**Movie Recomendation Engine with Collaborative Filltering Using Spark.**"
      ],
      "metadata": {
        "id": "cB0QladItM_6"
      }
    },
    {
      "cell_type": "code",
      "execution_count": null,
      "metadata": {
        "colab": {
          "base_uri": "https://localhost:8080/"
        },
        "id": "zT_ZWvBC_c8V",
        "outputId": "df7f7c01-34fa-42c5-fe96-46024a2dfcb7"
      },
      "outputs": [
        {
          "output_type": "stream",
          "name": "stdout",
          "text": [
            "Looking in indexes: https://pypi.org/simple, https://us-python.pkg.dev/colab-wheels/public/simple/\n",
            "Collecting pyspark\n",
            "  Downloading pyspark-3.3.1.tar.gz (281.4 MB)\n",
            "\u001b[2K     \u001b[90m━━━━━━━━━━━━━━━━━━━━━━━━━━━━━━━━━━━━━━━\u001b[0m \u001b[32m281.4/281.4 MB\u001b[0m \u001b[31m4.6 MB/s\u001b[0m eta \u001b[36m0:00:00\u001b[0m\n",
            "\u001b[?25h  Preparing metadata (setup.py) ... \u001b[?25l\u001b[?25hdone\n",
            "Collecting py4j==0.10.9.5\n",
            "  Downloading py4j-0.10.9.5-py2.py3-none-any.whl (199 kB)\n",
            "\u001b[2K     \u001b[90m━━━━━━━━━━━━━━━━━━━━━━━━━━━━━━━━━━━━━━\u001b[0m \u001b[32m199.7/199.7 KB\u001b[0m \u001b[31m16.0 MB/s\u001b[0m eta \u001b[36m0:00:00\u001b[0m\n",
            "\u001b[?25hBuilding wheels for collected packages: pyspark\n",
            "  Building wheel for pyspark (setup.py) ... \u001b[?25l\u001b[?25hdone\n",
            "  Created wheel for pyspark: filename=pyspark-3.3.1-py2.py3-none-any.whl size=281845512 sha256=93675ff2effe9225cc8bb2722e80d8c9100ef08a33b7837c6d16589d43f8e6d8\n",
            "  Stored in directory: /root/.cache/pip/wheels/43/dc/11/ec201cd671da62fa9c5cc77078235e40722170ceba231d7598\n",
            "Successfully built pyspark\n",
            "Installing collected packages: py4j, pyspark\n",
            "Successfully installed py4j-0.10.9.5 pyspark-3.3.1\n"
          ]
        }
      ],
      "source": [
        "!apt-get install openjdk-8-jdk-headless -qq > /dev/null\n",
        "!tar xf /content/drive/MyDrive/spark-3.0.0-bin-hadoop3.2.tgz\n",
        "\n",
        "!pip install -q findspark\n",
        "\n",
        "import os\n",
        "os.environ[\"JAVA_HOME\"] = \"/usr/lib/jvm/java-8-openjdk-amd64\"\n",
        "os.environ[\"SPARK_HOME\"] = \"/content/spark-3.0.0-bin-hadoop3.2\"\n",
        "\n",
        "!pip install pyspark"
      ]
    },
    {
      "cell_type": "markdown",
      "source": [
        "#Import Library"
      ],
      "metadata": {
        "id": "3qU_kPejXFy2"
      }
    },
    {
      "cell_type": "code",
      "source": [
        "from pyspark.sql import SparkSession\n",
        "from pyspark.sql import SQLContext\n",
        "from pyspark.ml.evaluation import RegressionEvaluator            #Alternating Least Square\n",
        "from pyspark.ml.tuning import ParamGridBuilder, CrossValidator\n",
        "from pyspark.ml.recommendation import ALS                        # #Alternating Least Square\n",
        "from pyspark.sql.functions import udf, col, when, count, isnan, row_number, window, explode, rand\n",
        "import random"
      ],
      "metadata": {
        "id": "sCHnFi4h_4It"
      },
      "execution_count": null,
      "outputs": []
    },
    {
      "cell_type": "markdown",
      "source": [
        "#Import Dataset from Kaggle"
      ],
      "metadata": {
        "id": "oHU0hZJIXOjL"
      }
    },
    {
      "cell_type": "code",
      "source": [
        "!pip install -q kaggle\n",
        "\n",
        "from google.colab import files\n",
        "files.upload()"
      ],
      "metadata": {
        "colab": {
          "base_uri": "https://localhost:8080/",
          "height": 90
        },
        "id": "_NBbM4TgAIn2",
        "outputId": "e92e770e-9b98-4e8d-ff16-d50961060922"
      },
      "execution_count": null,
      "outputs": [
        {
          "output_type": "display_data",
          "data": {
            "text/plain": [
              "<IPython.core.display.HTML object>"
            ],
            "text/html": [
              "\n",
              "     <input type=\"file\" id=\"files-14c94296-8541-4562-a27c-153db4b11f7d\" name=\"files[]\" multiple disabled\n",
              "        style=\"border:none\" />\n",
              "     <output id=\"result-14c94296-8541-4562-a27c-153db4b11f7d\">\n",
              "      Upload widget is only available when the cell has been executed in the\n",
              "      current browser session. Please rerun this cell to enable.\n",
              "      </output>\n",
              "      <script>// Copyright 2017 Google LLC\n",
              "//\n",
              "// Licensed under the Apache License, Version 2.0 (the \"License\");\n",
              "// you may not use this file except in compliance with the License.\n",
              "// You may obtain a copy of the License at\n",
              "//\n",
              "//      http://www.apache.org/licenses/LICENSE-2.0\n",
              "//\n",
              "// Unless required by applicable law or agreed to in writing, software\n",
              "// distributed under the License is distributed on an \"AS IS\" BASIS,\n",
              "// WITHOUT WARRANTIES OR CONDITIONS OF ANY KIND, either express or implied.\n",
              "// See the License for the specific language governing permissions and\n",
              "// limitations under the License.\n",
              "\n",
              "/**\n",
              " * @fileoverview Helpers for google.colab Python module.\n",
              " */\n",
              "(function(scope) {\n",
              "function span(text, styleAttributes = {}) {\n",
              "  const element = document.createElement('span');\n",
              "  element.textContent = text;\n",
              "  for (const key of Object.keys(styleAttributes)) {\n",
              "    element.style[key] = styleAttributes[key];\n",
              "  }\n",
              "  return element;\n",
              "}\n",
              "\n",
              "// Max number of bytes which will be uploaded at a time.\n",
              "const MAX_PAYLOAD_SIZE = 100 * 1024;\n",
              "\n",
              "function _uploadFiles(inputId, outputId) {\n",
              "  const steps = uploadFilesStep(inputId, outputId);\n",
              "  const outputElement = document.getElementById(outputId);\n",
              "  // Cache steps on the outputElement to make it available for the next call\n",
              "  // to uploadFilesContinue from Python.\n",
              "  outputElement.steps = steps;\n",
              "\n",
              "  return _uploadFilesContinue(outputId);\n",
              "}\n",
              "\n",
              "// This is roughly an async generator (not supported in the browser yet),\n",
              "// where there are multiple asynchronous steps and the Python side is going\n",
              "// to poll for completion of each step.\n",
              "// This uses a Promise to block the python side on completion of each step,\n",
              "// then passes the result of the previous step as the input to the next step.\n",
              "function _uploadFilesContinue(outputId) {\n",
              "  const outputElement = document.getElementById(outputId);\n",
              "  const steps = outputElement.steps;\n",
              "\n",
              "  const next = steps.next(outputElement.lastPromiseValue);\n",
              "  return Promise.resolve(next.value.promise).then((value) => {\n",
              "    // Cache the last promise value to make it available to the next\n",
              "    // step of the generator.\n",
              "    outputElement.lastPromiseValue = value;\n",
              "    return next.value.response;\n",
              "  });\n",
              "}\n",
              "\n",
              "/**\n",
              " * Generator function which is called between each async step of the upload\n",
              " * process.\n",
              " * @param {string} inputId Element ID of the input file picker element.\n",
              " * @param {string} outputId Element ID of the output display.\n",
              " * @return {!Iterable<!Object>} Iterable of next steps.\n",
              " */\n",
              "function* uploadFilesStep(inputId, outputId) {\n",
              "  const inputElement = document.getElementById(inputId);\n",
              "  inputElement.disabled = false;\n",
              "\n",
              "  const outputElement = document.getElementById(outputId);\n",
              "  outputElement.innerHTML = '';\n",
              "\n",
              "  const pickedPromise = new Promise((resolve) => {\n",
              "    inputElement.addEventListener('change', (e) => {\n",
              "      resolve(e.target.files);\n",
              "    });\n",
              "  });\n",
              "\n",
              "  const cancel = document.createElement('button');\n",
              "  inputElement.parentElement.appendChild(cancel);\n",
              "  cancel.textContent = 'Cancel upload';\n",
              "  const cancelPromise = new Promise((resolve) => {\n",
              "    cancel.onclick = () => {\n",
              "      resolve(null);\n",
              "    };\n",
              "  });\n",
              "\n",
              "  // Wait for the user to pick the files.\n",
              "  const files = yield {\n",
              "    promise: Promise.race([pickedPromise, cancelPromise]),\n",
              "    response: {\n",
              "      action: 'starting',\n",
              "    }\n",
              "  };\n",
              "\n",
              "  cancel.remove();\n",
              "\n",
              "  // Disable the input element since further picks are not allowed.\n",
              "  inputElement.disabled = true;\n",
              "\n",
              "  if (!files) {\n",
              "    return {\n",
              "      response: {\n",
              "        action: 'complete',\n",
              "      }\n",
              "    };\n",
              "  }\n",
              "\n",
              "  for (const file of files) {\n",
              "    const li = document.createElement('li');\n",
              "    li.append(span(file.name, {fontWeight: 'bold'}));\n",
              "    li.append(span(\n",
              "        `(${file.type || 'n/a'}) - ${file.size} bytes, ` +\n",
              "        `last modified: ${\n",
              "            file.lastModifiedDate ? file.lastModifiedDate.toLocaleDateString() :\n",
              "                                    'n/a'} - `));\n",
              "    const percent = span('0% done');\n",
              "    li.appendChild(percent);\n",
              "\n",
              "    outputElement.appendChild(li);\n",
              "\n",
              "    const fileDataPromise = new Promise((resolve) => {\n",
              "      const reader = new FileReader();\n",
              "      reader.onload = (e) => {\n",
              "        resolve(e.target.result);\n",
              "      };\n",
              "      reader.readAsArrayBuffer(file);\n",
              "    });\n",
              "    // Wait for the data to be ready.\n",
              "    let fileData = yield {\n",
              "      promise: fileDataPromise,\n",
              "      response: {\n",
              "        action: 'continue',\n",
              "      }\n",
              "    };\n",
              "\n",
              "    // Use a chunked sending to avoid message size limits. See b/62115660.\n",
              "    let position = 0;\n",
              "    do {\n",
              "      const length = Math.min(fileData.byteLength - position, MAX_PAYLOAD_SIZE);\n",
              "      const chunk = new Uint8Array(fileData, position, length);\n",
              "      position += length;\n",
              "\n",
              "      const base64 = btoa(String.fromCharCode.apply(null, chunk));\n",
              "      yield {\n",
              "        response: {\n",
              "          action: 'append',\n",
              "          file: file.name,\n",
              "          data: base64,\n",
              "        },\n",
              "      };\n",
              "\n",
              "      let percentDone = fileData.byteLength === 0 ?\n",
              "          100 :\n",
              "          Math.round((position / fileData.byteLength) * 100);\n",
              "      percent.textContent = `${percentDone}% done`;\n",
              "\n",
              "    } while (position < fileData.byteLength);\n",
              "  }\n",
              "\n",
              "  // All done.\n",
              "  yield {\n",
              "    response: {\n",
              "      action: 'complete',\n",
              "    }\n",
              "  };\n",
              "}\n",
              "\n",
              "scope.google = scope.google || {};\n",
              "scope.google.colab = scope.google.colab || {};\n",
              "scope.google.colab._files = {\n",
              "  _uploadFiles,\n",
              "  _uploadFilesContinue,\n",
              "};\n",
              "})(self);\n",
              "</script> "
            ]
          },
          "metadata": {}
        },
        {
          "output_type": "stream",
          "name": "stdout",
          "text": [
            "Saving kaggle.json to kaggle.json\n"
          ]
        },
        {
          "output_type": "execute_result",
          "data": {
            "text/plain": [
              "{'kaggle.json': b'{\"username\":\"benediktussatriya\",\"key\":\"5571ef5062bae925b043b79195cc175c\"}'}"
            ]
          },
          "metadata": {},
          "execution_count": 2
        }
      ]
    },
    {
      "cell_type": "code",
      "source": [
        "!mkdir -p ~/.kaggle\n",
        "!cp kaggle.json ~/.kaggle/"
      ],
      "metadata": {
        "id": "rE0073vTAOvC"
      },
      "execution_count": null,
      "outputs": []
    },
    {
      "cell_type": "code",
      "source": [
        "!chmod 600 /root/.kaggle/kaggle.json"
      ],
      "metadata": {
        "id": "7G8GV-0cAPJO"
      },
      "execution_count": null,
      "outputs": []
    },
    {
      "cell_type": "code",
      "source": [
        "!kaggle datasets download -d grouplens/movielens-20m-dataset"
      ],
      "metadata": {
        "colab": {
          "base_uri": "https://localhost:8080/"
        },
        "id": "wxXXsxp8AQoR",
        "outputId": "397c0ea8-2688-4548-d6c1-a177fa5918ad"
      },
      "execution_count": null,
      "outputs": [
        {
          "output_type": "stream",
          "name": "stdout",
          "text": [
            "Downloading movielens-20m-dataset.zip to /content\n",
            " 96% 188M/195M [00:02<00:00, 104MB/s] \n",
            "100% 195M/195M [00:02<00:00, 93.2MB/s]\n"
          ]
        }
      ]
    },
    {
      "cell_type": "code",
      "source": [
        "!unzip /content/movielens-20m-dataset.zip"
      ],
      "metadata": {
        "colab": {
          "base_uri": "https://localhost:8080/"
        },
        "id": "8tGAYEGYASLT",
        "outputId": "9ffe20b1-e10e-4366-cfba-9a3e5a8ddadf"
      },
      "execution_count": null,
      "outputs": [
        {
          "output_type": "stream",
          "name": "stdout",
          "text": [
            "Archive:  /content/movielens-20m-dataset.zip\n",
            "  inflating: genome_scores.csv       \n",
            "  inflating: genome_tags.csv         \n",
            "  inflating: link.csv                \n",
            "  inflating: movie.csv               \n",
            "  inflating: rating.csv              \n",
            "  inflating: tag.csv                 \n"
          ]
        }
      ]
    },
    {
      "cell_type": "code",
      "source": [
        "spark = SparkSession.builder.appName(\"movie_recomendation\").getOrCreate()\n",
        "print(spark.version)"
      ],
      "metadata": {
        "colab": {
          "base_uri": "https://localhost:8080/"
        },
        "id": "GgdyFInFAUAV",
        "outputId": "5a9c629f-532a-47f5-df57-a068c1bb7c0e"
      },
      "execution_count": null,
      "outputs": [
        {
          "output_type": "stream",
          "name": "stdout",
          "text": [
            "3.3.1\n"
          ]
        }
      ]
    },
    {
      "cell_type": "markdown",
      "source": [
        "###Read Dataset and Joining the datasets"
      ],
      "metadata": {
        "id": "JWqhfOKwXWE3"
      }
    },
    {
      "cell_type": "code",
      "source": [
        "df_rating = spark.read.csv(\"/content/rating.csv\",inferSchema=True, header=True)\n",
        "df_movie = spark.read.csv(\"/content/movie.csv\",inferSchema=True, header=True)\n",
        "\n",
        "df_movie_ratings = df_rating.join(df_movie, ['movieId'], 'left')\n",
        "df_movie_ratings.show(10)"
      ],
      "metadata": {
        "colab": {
          "base_uri": "https://localhost:8080/"
        },
        "id": "p_MZ2OPdAYBU",
        "outputId": "295fbd6d-309e-4d57-90be-3a5c641f91dd"
      },
      "execution_count": null,
      "outputs": [
        {
          "output_type": "stream",
          "name": "stdout",
          "text": [
            "+-------+------+------+-------------------+--------------------+--------------------+\n",
            "|movieId|userId|rating|          timestamp|               title|              genres|\n",
            "+-------+------+------+-------------------+--------------------+--------------------+\n",
            "|      2|     1|   3.5|2005-04-02 23:53:47|      Jumanji (1995)|Adventure|Childre...|\n",
            "|     29|     1|   3.5|2005-04-02 23:31:16|City of Lost Chil...|Adventure|Drama|F...|\n",
            "|     32|     1|   3.5|2005-04-02 23:33:39|Twelve Monkeys (a...|Mystery|Sci-Fi|Th...|\n",
            "|     47|     1|   3.5|2005-04-02 23:32:07|Seven (a.k.a. Se7...|    Mystery|Thriller|\n",
            "|     50|     1|   3.5|2005-04-02 23:29:40|Usual Suspects, T...|Crime|Mystery|Thr...|\n",
            "|    112|     1|   3.5|2004-09-10 03:09:00|Rumble in the Bro...|Action|Adventure|...|\n",
            "|    151|     1|   4.0|2004-09-10 03:08:54|      Rob Roy (1995)|Action|Drama|Roma...|\n",
            "|    223|     1|   4.0|2005-04-02 23:46:13|       Clerks (1994)|              Comedy|\n",
            "|    253|     1|   4.0|2005-04-02 23:35:40|Interview with th...|        Drama|Horror|\n",
            "|    260|     1|   4.0|2005-04-02 23:33:46|Star Wars: Episod...|Action|Adventure|...|\n",
            "+-------+------+------+-------------------+--------------------+--------------------+\n",
            "only showing top 10 rows\n",
            "\n"
          ]
        }
      ]
    },
    {
      "cell_type": "markdown",
      "source": [
        "### Choose quer from dataset where userId around 1-10, because the origin datasets heavier"
      ],
      "metadata": {
        "id": "aEv7fxogXgn2"
      }
    },
    {
      "cell_type": "code",
      "source": [
        "#Create newest data fr\n",
        "df_movie_ratings.createOrReplaceTempView(\"df_view\")\n",
        "df_movie_new = spark.sql(\n",
        "    \"\"\"\n",
        "    SELECT * \n",
        "    FROM df_view\n",
        "    WHERE userId <= 10\n",
        "    \"\"\"\n",
        ")"
      ],
      "metadata": {
        "id": "6n0vEDBoA4pw"
      },
      "execution_count": null,
      "outputs": []
    },
    {
      "cell_type": "code",
      "source": [
        "df_movie_new.show(10)"
      ],
      "metadata": {
        "colab": {
          "base_uri": "https://localhost:8080/"
        },
        "id": "hmwieg_WBKUx",
        "outputId": "412b1662-6c38-4229-cd0b-05f526f63bd2"
      },
      "execution_count": null,
      "outputs": [
        {
          "output_type": "stream",
          "name": "stdout",
          "text": [
            "+-------+------+------+-------------------+--------------------+--------------------+\n",
            "|movieId|userId|rating|          timestamp|               title|              genres|\n",
            "+-------+------+------+-------------------+--------------------+--------------------+\n",
            "|      2|     1|   3.5|2005-04-02 23:53:47|      Jumanji (1995)|Adventure|Childre...|\n",
            "|     29|     1|   3.5|2005-04-02 23:31:16|City of Lost Chil...|Adventure|Drama|F...|\n",
            "|     32|     1|   3.5|2005-04-02 23:33:39|Twelve Monkeys (a...|Mystery|Sci-Fi|Th...|\n",
            "|     47|     1|   3.5|2005-04-02 23:32:07|Seven (a.k.a. Se7...|    Mystery|Thriller|\n",
            "|     50|     1|   3.5|2005-04-02 23:29:40|Usual Suspects, T...|Crime|Mystery|Thr...|\n",
            "|    112|     1|   3.5|2004-09-10 03:09:00|Rumble in the Bro...|Action|Adventure|...|\n",
            "|    151|     1|   4.0|2004-09-10 03:08:54|      Rob Roy (1995)|Action|Drama|Roma...|\n",
            "|    223|     1|   4.0|2005-04-02 23:46:13|       Clerks (1994)|              Comedy|\n",
            "|    253|     1|   4.0|2005-04-02 23:35:40|Interview with th...|        Drama|Horror|\n",
            "|    260|     1|   4.0|2005-04-02 23:33:46|Star Wars: Episod...|Action|Adventure|...|\n",
            "+-------+------+------+-------------------+--------------------+--------------------+\n",
            "only showing top 10 rows\n",
            "\n"
          ]
        }
      ]
    },
    {
      "cell_type": "code",
      "source": [
        "df_movie_new.describe().show()"
      ],
      "metadata": {
        "colab": {
          "base_uri": "https://localhost:8080/"
        },
        "id": "B7WZxrQ5BQlE",
        "outputId": "3adead0e-66b7-4786-9e3c-fd02f83e1391"
      },
      "execution_count": null,
      "outputs": [
        {
          "output_type": "stream",
          "name": "stdout",
          "text": [
            "+-------+------------------+------------------+------------------+--------------------+----------------+\n",
            "|summary|           movieId|            userId|            rating|               title|          genres|\n",
            "+-------+------------------+------------------+------------------+--------------------+----------------+\n",
            "|  count|               960|               960|               960|                 960|             960|\n",
            "|   mean|2048.0510416666666| 4.823958333333334|3.7197916666666666|                null|            null|\n",
            "| stddev| 1927.862911118332|2.7709292603631606|0.9142733077505908|                null|            null|\n",
            "|    min|                 1|                 1|               1.0|1984 (Nineteen Ei...|Action|Adventure|\n",
            "|    max|             31696|                10|               5.0|¡Three Amigos! (1...|         Western|\n",
            "+-------+------------------+------------------+------------------+--------------------+----------------+\n",
            "\n"
          ]
        }
      ]
    },
    {
      "cell_type": "code",
      "source": [
        "print(\"Shape of the dataset: \", (df_movie_new.count(), len(df_movie_new.columns)))"
      ],
      "metadata": {
        "colab": {
          "base_uri": "https://localhost:8080/"
        },
        "id": "vsNo6AfWBTpr",
        "outputId": "4c8703e3-9cee-400e-d621-01a6fea65b6d"
      },
      "execution_count": null,
      "outputs": [
        {
          "output_type": "stream",
          "name": "stdout",
          "text": [
            "Shape of the dataset:  (960, 6)\n"
          ]
        }
      ]
    },
    {
      "cell_type": "code",
      "source": [
        "df_movie_new.printSchema()"
      ],
      "metadata": {
        "colab": {
          "base_uri": "https://localhost:8080/"
        },
        "id": "CbKYHl8KBZGQ",
        "outputId": "7f8016a6-5437-4781-e4ff-36140ff8fa91"
      },
      "execution_count": null,
      "outputs": [
        {
          "output_type": "stream",
          "name": "stdout",
          "text": [
            "root\n",
            " |-- movieId: integer (nullable = true)\n",
            " |-- userId: integer (nullable = true)\n",
            " |-- rating: double (nullable = true)\n",
            " |-- timestamp: timestamp (nullable = true)\n",
            " |-- title: string (nullable = true)\n",
            " |-- genres: string (nullable = true)\n",
            "\n"
          ]
        }
      ]
    },
    {
      "cell_type": "markdown",
      "source": [
        "Remove column timestamp because we not used that"
      ],
      "metadata": {
        "id": "t2XPvyjfXyPW"
      }
    },
    {
      "cell_type": "code",
      "source": [
        "df_movie_new = df_movie_new.drop(\"timestamp\") \n",
        "df_movie_new.show(10)"
      ],
      "metadata": {
        "colab": {
          "base_uri": "https://localhost:8080/"
        },
        "id": "umtgh9m7B7-4",
        "outputId": "af0e9c6f-bfae-437a-eb5e-6be498591072"
      },
      "execution_count": null,
      "outputs": [
        {
          "output_type": "stream",
          "name": "stdout",
          "text": [
            "+-------+------+------+--------------------+--------------------+\n",
            "|movieId|userId|rating|               title|              genres|\n",
            "+-------+------+------+--------------------+--------------------+\n",
            "|      2|     1|   3.5|      Jumanji (1995)|Adventure|Childre...|\n",
            "|     29|     1|   3.5|City of Lost Chil...|Adventure|Drama|F...|\n",
            "|     32|     1|   3.5|Twelve Monkeys (a...|Mystery|Sci-Fi|Th...|\n",
            "|     47|     1|   3.5|Seven (a.k.a. Se7...|    Mystery|Thriller|\n",
            "|     50|     1|   3.5|Usual Suspects, T...|Crime|Mystery|Thr...|\n",
            "|    112|     1|   3.5|Rumble in the Bro...|Action|Adventure|...|\n",
            "|    151|     1|   4.0|      Rob Roy (1995)|Action|Drama|Roma...|\n",
            "|    223|     1|   4.0|       Clerks (1994)|              Comedy|\n",
            "|    253|     1|   4.0|Interview with th...|        Drama|Horror|\n",
            "|    260|     1|   4.0|Star Wars: Episod...|Action|Adventure|...|\n",
            "+-------+------+------+--------------------+--------------------+\n",
            "only showing top 10 rows\n",
            "\n"
          ]
        }
      ]
    },
    {
      "cell_type": "markdown",
      "source": [
        "check null value"
      ],
      "metadata": {
        "id": "8lgX-wMPYNgp"
      }
    },
    {
      "cell_type": "code",
      "source": [
        "df_new_null = df_movie_new.select([count(when(col(c).contains(\"None\")|col(c).contains(\"NULL\")|(col(c) ==\"\")|col(c).isNull()|isnan(c),c)).alias(c)for c in df_movie_new.columns])\n",
        "df_new_null.show(10)"
      ],
      "metadata": {
        "colab": {
          "base_uri": "https://localhost:8080/"
        },
        "id": "WOvLSq-uBtCi",
        "outputId": "b52722c9-7e8a-4fb3-f83d-37844befb9fa"
      },
      "execution_count": null,
      "outputs": [
        {
          "output_type": "stream",
          "name": "stdout",
          "text": [
            "+-------+------+------+-----+------+\n",
            "|movieId|userId|rating|title|genres|\n",
            "+-------+------+------+-----+------+\n",
            "|      0|     0|     0|    0|     0|\n",
            "+-------+------+------+-----+------+\n",
            "\n"
          ]
        }
      ]
    },
    {
      "cell_type": "markdown",
      "source": [
        "#Spliting Data"
      ],
      "metadata": {
        "id": "aHzxUjXEYQIR"
      }
    },
    {
      "cell_type": "code",
      "source": [
        "# Create test and train set\n",
        "training_df, test_df = df_movie_new.randomSplit([0.8, 0.2], seed = 2020)"
      ],
      "metadata": {
        "id": "qswB4OK-CBof"
      },
      "execution_count": null,
      "outputs": []
    },
    {
      "cell_type": "markdown",
      "source": [
        "Check training_df not empty"
      ],
      "metadata": {
        "id": "IkXNkkSsYTRR"
      }
    },
    {
      "cell_type": "code",
      "source": [
        "training_df.show(5)"
      ],
      "metadata": {
        "colab": {
          "base_uri": "https://localhost:8080/"
        },
        "id": "9Wkx5ORuDMwo",
        "outputId": "3a6c1552-6a0a-434f-d37f-8072793152ca"
      },
      "execution_count": null,
      "outputs": [
        {
          "output_type": "stream",
          "name": "stdout",
          "text": [
            "+-------+------+------+----------------+--------------------+\n",
            "|movieId|userId|rating|           title|              genres|\n",
            "+-------+------+------+----------------+--------------------+\n",
            "|      1|     3|   4.0|Toy Story (1995)|Adventure|Animati...|\n",
            "|      1|     6|   5.0|Toy Story (1995)|Adventure|Animati...|\n",
            "|      1|     8|   4.0|Toy Story (1995)|Adventure|Animati...|\n",
            "|      1|    10|   4.0|Toy Story (1995)|Adventure|Animati...|\n",
            "|      2|     1|   3.5|  Jumanji (1995)|Adventure|Childre...|\n",
            "+-------+------+------+----------------+--------------------+\n",
            "only showing top 5 rows\n",
            "\n"
          ]
        }
      ]
    },
    {
      "cell_type": "markdown",
      "source": [
        "\n",
        "Check training_df not empty"
      ],
      "metadata": {
        "id": "Y3bG9o8-YYWo"
      }
    },
    {
      "cell_type": "code",
      "source": [
        "test_df.show(5)"
      ],
      "metadata": {
        "colab": {
          "base_uri": "https://localhost:8080/"
        },
        "id": "JYsHOYTnDOjg",
        "outputId": "6d8462c4-d268-4ab0-8759-d84894b95d5a"
      },
      "execution_count": null,
      "outputs": [
        {
          "output_type": "stream",
          "name": "stdout",
          "text": [
            "+-------+------+------+--------------------+--------------------+\n",
            "|movieId|userId|rating|               title|              genres|\n",
            "+-------+------+------+--------------------+--------------------+\n",
            "|      3|     7|   3.0|Grumpier Old Men ...|      Comedy|Romance|\n",
            "|      7|     6|   5.0|      Sabrina (1995)|      Comedy|Romance|\n",
            "|     11|     5|   5.0|American Presiden...|Comedy|Drama|Romance|\n",
            "|     15|     7|   2.0|Cutthroat Island ...|Action|Adventure|...|\n",
            "|     16|     7|   3.0|       Casino (1995)|         Crime|Drama|\n",
            "+-------+------+------+--------------------+--------------------+\n",
            "only showing top 5 rows\n",
            "\n"
          ]
        }
      ]
    },
    {
      "cell_type": "markdown",
      "source": [
        "#Modeling with ALS"
      ],
      "metadata": {
        "id": "RGvt8lDQYk7T"
      }
    },
    {
      "cell_type": "markdown",
      "source": [
        "Put the column for make predict "
      ],
      "metadata": {
        "id": "XAoZvxeLYqHO"
      }
    },
    {
      "cell_type": "code",
      "source": [
        "# Create ALS model\n",
        "als = ALS(\n",
        "         userCol=\"userId\", \n",
        "         itemCol=\"movieId\",\n",
        "         ratingCol=\"rating\", \n",
        "         nonnegative = True, \n",
        "         implicitPrefs = False,\n",
        "         coldStartStrategy=\"drop\"\n",
        ")\n"
      ],
      "metadata": {
        "id": "Vueiu94uCIy9"
      },
      "execution_count": null,
      "outputs": []
    },
    {
      "cell_type": "code",
      "source": [
        "# Add hyperparameters and their respective values to param_grid\n",
        "param_grid = ParamGridBuilder() \\\n",
        "            .addGrid(als.rank, [10, 50, 100, 150]) \\\n",
        "            .addGrid(als.regParam, [.01, .05, .1, .15]) \\\n",
        "            .build()"
      ],
      "metadata": {
        "id": "zKIzSTBNCQUN"
      },
      "execution_count": null,
      "outputs": []
    },
    {
      "cell_type": "code",
      "source": [
        "# Define evaluator as RMSE and print length of evaluator\n",
        "evaluator = RegressionEvaluator(\n",
        "           metricName=\"rmse\", \n",
        "           labelCol=\"rating\", \n",
        "           predictionCol=\"prediction\") "
      ],
      "metadata": {
        "id": "B4qLn6zICPKP"
      },
      "execution_count": null,
      "outputs": []
    },
    {
      "cell_type": "code",
      "source": [
        "# Build cross validation using CrossValidator\n",
        "cv = CrossValidator(estimator=als, estimatorParamMaps=param_grid, evaluator=evaluator, numFolds=5)"
      ],
      "metadata": {
        "id": "UdiD0cPVCLdp"
      },
      "execution_count": null,
      "outputs": []
    },
    {
      "cell_type": "markdown",
      "source": [
        "Training data"
      ],
      "metadata": {
        "id": "NvT9jzN9Y6Dr"
      }
    },
    {
      "cell_type": "code",
      "source": [
        "#Fit cross validator to the 'train' dataset\n",
        "model = cv.fit(training_df)\n",
        "\n",
        "#Extract best model from the cv model above\n",
        "best_model = model.bestModel\n",
        "\n",
        "# View the predictions\n",
        "test_predictions = best_model.transform(test_df)"
      ],
      "metadata": {
        "id": "tJZKtXsuCNjN"
      },
      "execution_count": null,
      "outputs": []
    },
    {
      "cell_type": "markdown",
      "source": [
        "Evaluation with RMSE"
      ],
      "metadata": {
        "id": "QMXGQDX7Y9_o"
      }
    },
    {
      "cell_type": "code",
      "source": [
        "RMSE = evaluator.evaluate(test_predictions)\n",
        "print(RMSE)"
      ],
      "metadata": {
        "colab": {
          "base_uri": "https://localhost:8080/"
        },
        "id": "ejqTAZ39CUDb",
        "outputId": "c9cd1b6a-c252-44c4-dfbb-bc5e8ac55471"
      },
      "execution_count": null,
      "outputs": [
        {
          "output_type": "stream",
          "name": "stdout",
          "text": [
            "1.1951181875332397\n"
          ]
        }
      ]
    },
    {
      "cell_type": "markdown",
      "source": [
        "#Test the recommendation system"
      ],
      "metadata": {
        "id": "oMPbtZFEZBUG"
      }
    },
    {
      "cell_type": "code",
      "source": [
        "# Generate n Recommendations for all users\n",
        "nrecommendations = best_model.recommendForAllUsers(5)\n",
        "nrecommendations.show()"
      ],
      "metadata": {
        "colab": {
          "base_uri": "https://localhost:8080/"
        },
        "id": "U1-YSr2wJ-qH",
        "outputId": "ce791a62-52be-42ac-e61e-4ca6dc0d95b4"
      },
      "execution_count": null,
      "outputs": [
        {
          "output_type": "stream",
          "name": "stdout",
          "text": [
            "+------+--------------------+\n",
            "|userId|     recommendations|\n",
            "+------+--------------------+\n",
            "|    10|[{1221, 4.824484}...|\n",
            "|     1|[{8507, 4.8168077...|\n",
            "|     2|[{457, 4.945968},...|\n",
            "|     3|[{858, 4.951282},...|\n",
            "|     4|[{454, 4.608115},...|\n",
            "|     5|[{1196, 4.9781013...|\n",
            "|     6|[{52, 4.8815203},...|\n",
            "|     7|[{1077, 4.821388}...|\n",
            "|     8|[{527, 4.8993764}...|\n",
            "|     9|[{4148, 4.8266053...|\n",
            "+------+--------------------+\n",
            "\n"
          ]
        }
      ]
    },
    {
      "cell_type": "code",
      "source": [
        "nrecommendations = nrecommendations\\\n",
        "    .withColumn(\"rec_exp\", explode(\"recommendations\"))\\\n",
        "    .select('userId', col(\"rec_exp.movieId\"), col(\"rec_exp.rating\"))\n",
        "nrecommendations.limit(10).show()"
      ],
      "metadata": {
        "colab": {
          "base_uri": "https://localhost:8080/"
        },
        "id": "AGbsy5gGKCD4",
        "outputId": "f5bc8b6f-f4f4-4d10-d7ab-5a0727d7193d"
      },
      "execution_count": null,
      "outputs": [
        {
          "output_type": "stream",
          "name": "stdout",
          "text": [
            "+------+-------+---------+\n",
            "|userId|movieId|   rating|\n",
            "+------+-------+---------+\n",
            "|    10|   1221| 4.824484|\n",
            "|    10|   1247| 4.824484|\n",
            "|    10|    858|4.7805624|\n",
            "|    10|    527|4.7575636|\n",
            "|    10|   1387|4.6533937|\n",
            "|     1|   8507|4.8168077|\n",
            "|     1|   4993|4.8168077|\n",
            "|     1|   5952|4.8168077|\n",
            "|     1|   7153|4.8168077|\n",
            "|     1|    858|4.3559747|\n",
            "+------+-------+---------+\n",
            "\n"
          ]
        }
      ]
    },
    {
      "cell_type": "code",
      "source": [
        "nrecommendations.join(df_movie, on='movieId').filter('userId = 1').show()"
      ],
      "metadata": {
        "colab": {
          "base_uri": "https://localhost:8080/"
        },
        "id": "t_aQrK3BKn6s",
        "outputId": "e6d89766-39fe-4e07-e859-45c4ddb8c32f"
      },
      "execution_count": null,
      "outputs": [
        {
          "output_type": "stream",
          "name": "stdout",
          "text": [
            "+-------+------+---------+--------------------+--------------------+\n",
            "|movieId|userId|   rating|               title|              genres|\n",
            "+-------+------+---------+--------------------+--------------------+\n",
            "|   8507|     1|4.8168077|       Freaks (1932)|  Crime|Drama|Horror|\n",
            "|   4993|     1|4.8168077|Lord of the Rings...|   Adventure|Fantasy|\n",
            "|   5952|     1|4.8168077|Lord of the Rings...|   Adventure|Fantasy|\n",
            "|   7153|     1|4.8168077|Lord of the Rings...|Action|Adventure|...|\n",
            "|    858|     1|4.3559747|Godfather, The (1...|         Crime|Drama|\n",
            "+-------+------+---------+--------------------+--------------------+\n",
            "\n"
          ]
        }
      ]
    },
    {
      "cell_type": "code",
      "source": [
        "df_movie_new.join(df_movie, on='movieId').filter('userId = 10').sort('rating', ascending=False).limit(5).show()"
      ],
      "metadata": {
        "colab": {
          "base_uri": "https://localhost:8080/"
        },
        "id": "QDNpfsvPWjWW",
        "outputId": "ab043798-98a9-46a8-99ad-ae10fe5d025f"
      },
      "execution_count": null,
      "outputs": [
        {
          "output_type": "stream",
          "name": "stdout",
          "text": [
            "+-------+------+------+--------------------+--------------------+--------------------+--------------------+\n",
            "|movieId|userId|rating|               title|              genres|               title|              genres|\n",
            "+-------+------+------+--------------------+--------------------+--------------------+--------------------+\n",
            "|    527|    10|   5.0|Schindler's List ...|           Drama|War|Schindler's List ...|           Drama|War|\n",
            "|    858|    10|   5.0|Godfather, The (1...|         Crime|Drama|Godfather, The (1...|         Crime|Drama|\n",
            "|   1221|    10|   5.0|Godfather: Part I...|         Crime|Drama|Godfather: Part I...|         Crime|Drama|\n",
            "|   1247|    10|   5.0|Graduate, The (1967)|Comedy|Drama|Romance|Graduate, The (1967)|Comedy|Drama|Romance|\n",
            "|   1387|    10|   5.0|         Jaws (1975)|       Action|Horror|         Jaws (1975)|       Action|Horror|\n",
            "+-------+------+------+--------------------+--------------------+--------------------+--------------------+\n",
            "\n"
          ]
        }
      ]
    },
    {
      "cell_type": "markdown",
      "source": [
        "Recommendation system by random user id range 1 to 10"
      ],
      "metadata": {
        "id": "3ifm_LZqlR1I"
      }
    },
    {
      "cell_type": "code",
      "source": [
        "user = random.randint(1, 10)\n",
        "nrecommendations.join(df_movie, on='movieId').filter('userId = {}'.format(user)).show()"
      ],
      "metadata": {
        "colab": {
          "base_uri": "https://localhost:8080/"
        },
        "id": "obipRgqWlRLd",
        "outputId": "7b1992d7-f003-4e67-dff4-ecf2931f68df"
      },
      "execution_count": null,
      "outputs": [
        {
          "output_type": "stream",
          "name": "stdout",
          "text": [
            "+-------+------+---------+--------------------+--------------------+\n",
            "|movieId|userId|   rating|               title|              genres|\n",
            "+-------+------+---------+--------------------+--------------------+\n",
            "|   1221|    10| 4.824484|Godfather: Part I...|         Crime|Drama|\n",
            "|   1247|    10| 4.824484|Graduate, The (1967)|Comedy|Drama|Romance|\n",
            "|    858|    10|4.7805624|Godfather, The (1...|         Crime|Drama|\n",
            "|    527|    10|4.7575636|Schindler's List ...|           Drama|War|\n",
            "|   1387|    10|4.6533937|         Jaws (1975)|       Action|Horror|\n",
            "+-------+------+---------+--------------------+--------------------+\n",
            "\n"
          ]
        }
      ]
    },
    {
      "cell_type": "markdown",
      "source": [
        "Recommendation system by best rating prediction random rows"
      ],
      "metadata": {
        "id": "SVuIq5ZvmlRe"
      }
    },
    {
      "cell_type": "code",
      "source": [
        "nrecommendations.join(df_movie, on='movieId').orderBy(rand()).limit(5).show()"
      ],
      "metadata": {
        "colab": {
          "base_uri": "https://localhost:8080/"
        },
        "id": "-DtMOyDfmexq",
        "outputId": "88a9774d-c767-401b-dd1f-faa9850c61b5"
      },
      "execution_count": null,
      "outputs": [
        {
          "output_type": "stream",
          "name": "stdout",
          "text": [
            "+-------+------+---------+--------------------+--------------------+\n",
            "|movieId|userId|   rating|               title|              genres|\n",
            "+-------+------+---------+--------------------+--------------------+\n",
            "|    434|     8| 4.878001|  Cliffhanger (1993)|Action|Adventure|...|\n",
            "|   4148|     9|4.8266053|     Hannibal (2001)|     Horror|Thriller|\n",
            "|   1256|     7| 4.821388|    Duck Soup (1933)|  Comedy|Musical|War|\n",
            "|   7153|     1|4.8168077|Lord of the Rings...|Action|Adventure|...|\n",
            "|   1077|     7| 4.821388|      Sleeper (1973)|       Comedy|Sci-Fi|\n",
            "+-------+------+---------+--------------------+--------------------+\n",
            "\n"
          ]
        }
      ]
    },
    {
      "cell_type": "markdown",
      "source": [
        "#Conclusion\n",
        "The value rating between result predict and actual data from dataset is very close. That mean the prediction is good."
      ],
      "metadata": {
        "id": "7EATVGPYZGj7"
      }
    }
  ]
}